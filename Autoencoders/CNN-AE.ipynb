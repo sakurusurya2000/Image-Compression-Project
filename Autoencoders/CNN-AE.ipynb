{
 "cells": [
  {
   "cell_type": "code",
   "execution_count": 1,
   "metadata": {
    "collapsed": false
   },
   "outputs": [],
   "source": [
    "import tensorflow as tf\n",
    "import skimage.io\n",
    "import skimage.color\n",
    "import numpy as np\n",
    "from pprint import pprint\n",
    "import sys\n",
    "sys.path.insert(1,'../functions') \n",
    "\n",
    "import dataset_generator as data\n",
    "import read_cifar10 as cf10\n",
    "import image_func as img\n",
    "import network\n"
   ]
  },
  {
   "cell_type": "code",
   "execution_count": 2,
   "metadata": {
    "collapsed": false
   },
   "outputs": [],
   "source": [
    "#Read CIFAR images\n",
    "cifar10_dataset_generators = {\n",
    "    'train': data.cifar10_dataset_generator('train', 1000),\n",
    "    'test': data.cifar10_dataset_generator('test', -1)\n",
    "}\n"
   ]
  },
  {
   "cell_type": "code",
   "execution_count": 3,
   "metadata": {
    "collapsed": false
   },
   "outputs": [],
   "source": [
    "#Load cifar-10 data\n",
    "cf10_tr=cf10.load_training_data()\n",
    "cf10_tr_img=cf10_tr[0]\n",
    "cf10_tr_label = cf10_tr[1]\n",
    "\n",
    "cf10_test=cf10.load_test_data()\n",
    "cf10_test_img=cf10_test[0]\n",
    "cf10_test_label = cf10_test[1]"
   ]
  },
  {
   "cell_type": "code",
   "execution_count": 4,
   "metadata": {
    "collapsed": false
   },
   "outputs": [],
   "source": [
    "#Get the patches of lena image\n",
    "lena_img = skimage.io.imread('../test_img/lena512color.tiff')\n",
    "lena_32=img.img2block(lena_img)\n",
    "     \n",
    "        "
   ]
  },
  {
   "cell_type": "markdown",
   "metadata": {},
   "source": [
    "# Part-2 - CNN"
   ]
  },
  {
   "cell_type": "code",
   "execution_count": 5,
   "metadata": {
    "collapsed": false
   },
   "outputs": [],
   "source": [
    "#Create the inputs in the desired format\n",
    "x_tr = cf10_tr_img.astype(np.float32)#*255.\n",
    "x_test = cf10_test_img.astype(np.float32)#*255.\n",
    "x_test=x_test[:200,:,:,:]\n",
    "im = skimage.io.imread('../test_img/lena512color.tiff')\n",
    "im_32=img.img2block(im)"
   ]
  },
  {
   "cell_type": "markdown",
   "metadata": {},
   "source": [
    "## CNN-AE with the best params"
   ]
  },
  {
   "cell_type": "code",
   "execution_count": 6,
   "metadata": {
    "collapsed": false,
    "scrolled": false
   },
   "outputs": [
    {
     "name": "stdout",
     "output_type": "stream",
     "text": [
      "iteration 0\t train mse: 2.590E-01\t\n",
      "iteration 0\t TEST MSE: 2.940E-01\t TEST MSE(Quantized): 2.940E-01\t\n"
     ]
    },
    {
     "name": "stderr",
     "output_type": "stream",
     "text": [
      "/home/mtezcan/anaconda3/lib/python3.6/site-packages/skimage/io/_io.py:132: UserWarning: ../cifar10_recon0/img32_recon_0.tiff is a low contrast image\n",
      "  warn('%s is a low contrast image' % fname)\n",
      "/home/mtezcan/anaconda3/lib/python3.6/site-packages/skimage/io/_io.py:132: UserWarning: ../cifar10_recon0/test0_0.tiff is a low contrast image\n",
      "  warn('%s is a low contrast image' % fname)\n",
      "/home/mtezcan/anaconda3/lib/python3.6/site-packages/skimage/io/_io.py:132: UserWarning: ../cifar10_recon0/test1_0.tiff is a low contrast image\n",
      "  warn('%s is a low contrast image' % fname)\n",
      "/home/mtezcan/anaconda3/lib/python3.6/site-packages/skimage/io/_io.py:132: UserWarning: ../cifar10_recon0/test2_0.tiff is a low contrast image\n",
      "  warn('%s is a low contrast image' % fname)\n",
      "/home/mtezcan/anaconda3/lib/python3.6/site-packages/skimage/io/_io.py:132: UserWarning: ../cifar10_recon0/test3_0.tiff is a low contrast image\n",
      "  warn('%s is a low contrast image' % fname)\n",
      "/home/mtezcan/anaconda3/lib/python3.6/site-packages/skimage/io/_io.py:132: UserWarning: ../cifar10_recon0/test4_0.tiff is a low contrast image\n",
      "  warn('%s is a low contrast image' % fname)\n"
     ]
    },
    {
     "name": "stdout",
     "output_type": "stream",
     "text": [
      "Model saved in file: /tmp/cnnx4_test0\n"
     ]
    }
   ],
   "source": [
    "#YOU NEED TO CREATE A FOLDER NAMED 'cifar10_recon0' BEFORE RUNNING THAT CODE\n",
    "tf.reset_default_graph()\n",
    "model_dict=network.apply_classification_loss_mse(kernels1=[5,7,9,9],kernels2=[9,7,7,5],\n",
    "                                     filters1=[128,64,16,4],filters2=[8,8,3,3],\n",
    "                                     pool_size=[1,2,2,1,1,2,2,1],learning_rate=7e-5)\n",
    "saver = network.train_model(model_dict,x_tr,x_test,im_32, train_every=100, test_every=100,max_iter=100,load=False,\n",
    "                    fname='cifar10_recon0',outname='/tmp/cnnx4_test0')"
   ]
  },
  {
   "cell_type": "markdown",
   "metadata": {},
   "source": [
    "## CNN-AE-FT with the best params"
   ]
  },
  {
   "cell_type": "code",
   "execution_count": 7,
   "metadata": {
    "collapsed": false
   },
   "outputs": [
    {
     "name": "stdout",
     "output_type": "stream",
     "text": [
      "iteration 0\t train mse: 2.596E-01\t\n",
      "iteration 0\t TEST MSE: 2.947E-01\t TEST MSE(Quantized): 2.947E-01\t\n"
     ]
    },
    {
     "name": "stderr",
     "output_type": "stream",
     "text": [
      "/home/mtezcan/anaconda3/lib/python3.6/site-packages/skimage/io/_io.py:132: UserWarning: ../cifar10_recon1/img32_recon_0.tiff is a low contrast image\n",
      "  warn('%s is a low contrast image' % fname)\n",
      "/home/mtezcan/anaconda3/lib/python3.6/site-packages/skimage/io/_io.py:132: UserWarning: ../cifar10_recon1/test0_0.tiff is a low contrast image\n",
      "  warn('%s is a low contrast image' % fname)\n",
      "/home/mtezcan/anaconda3/lib/python3.6/site-packages/skimage/io/_io.py:132: UserWarning: ../cifar10_recon1/test1_0.tiff is a low contrast image\n",
      "  warn('%s is a low contrast image' % fname)\n",
      "/home/mtezcan/anaconda3/lib/python3.6/site-packages/skimage/io/_io.py:132: UserWarning: ../cifar10_recon1/test2_0.tiff is a low contrast image\n",
      "  warn('%s is a low contrast image' % fname)\n",
      "/home/mtezcan/anaconda3/lib/python3.6/site-packages/skimage/io/_io.py:132: UserWarning: ../cifar10_recon1/test3_0.tiff is a low contrast image\n",
      "  warn('%s is a low contrast image' % fname)\n",
      "/home/mtezcan/anaconda3/lib/python3.6/site-packages/skimage/io/_io.py:132: UserWarning: ../cifar10_recon1/test4_0.tiff is a low contrast image\n",
      "  warn('%s is a low contrast image' % fname)\n"
     ]
    },
    {
     "name": "stdout",
     "output_type": "stream",
     "text": [
      "iteration 100\t train mse: 9.652E-02\t\n",
      "Model saved in file: /tmp/cnnx4_test1\n"
     ]
    }
   ],
   "source": [
    "#YOU NEED TO CREATE A FOLDER NAMED 'cifar10_recon1' BEFORE RUNNING THAT CODE\n",
    "tf.reset_default_graph()\n",
    "model_dict=network.apply_classification_loss_mse(kernels1=[5,7,9,9],kernels2=[9,7,7,5],\n",
    "                                     filters1=[128,64,16,4],filters2=[8,8,3,3],\n",
    "                                     pool_size=[1,2,2,1,1,2,2,1],learning_rate=7e-5)\n",
    "saver = network.train_model(model_dict,x_tr,x_test,im_32, train_every=100, test_every=2000,max_iter=200,load=False,\n",
    "                    fname='cifar10_recon1',outname='/tmp/cnnx4_test1')"
   ]
  },
  {
   "cell_type": "code",
   "execution_count": 8,
   "metadata": {
    "collapsed": false
   },
   "outputs": [
    {
     "name": "stdout",
     "output_type": "stream",
     "text": [
      "INFO:tensorflow:Restoring parameters from /tmp/cnnx4_test1\n",
      "Model loaded\n",
      "iteration 0\t train mse: 6.541E-02\t\n",
      "iteration 0\t TEST MSE: 7.038E-02\t TEST MSE(Quantized): 7.038E-02\t\n",
      "iteration 100\t train mse: 6.201E-02\t\n",
      "iteration 200\t train mse: 6.033E-02\t\n",
      "iteration 300\t train mse: 5.995E-02\t\n",
      "iteration 400\t train mse: 6.002E-02\t\n",
      "iteration 500\t train mse: 5.862E-02\t\n",
      "iteration 600\t train mse: 5.794E-02\t\n",
      "iteration 700\t train mse: 5.656E-02\t\n"
     ]
    },
    {
     "ename": "KeyboardInterrupt",
     "evalue": "",
     "output_type": "error",
     "traceback": [
      "\u001b[0;31m---------------------------------------------------------------------------\u001b[0m",
      "\u001b[0;31mKeyboardInterrupt\u001b[0m                         Traceback (most recent call last)",
      "\u001b[0;32m<ipython-input-8-204d1a709893>\u001b[0m in \u001b[0;36m<module>\u001b[0;34m()\u001b[0m\n\u001b[1;32m     15\u001b[0m                                      pool_size=[1,2,2,1,1,2,2,1],learning_rate=1e-6,FT=True)\n\u001b[1;32m     16\u001b[0m saver = network.train_model(model_dict,x_tr,x_test,im_32, train_every=100, test_every=1000,load=True,\n\u001b[0;32m---> 17\u001b[0;31m                     fname='cifar10_recon2',outname='/tmp/cnnx4_test1',ftname='/tmp/cnnx4_test1_lion')\n\u001b[0m\u001b[1;32m     18\u001b[0m \u001b[0;34m\u001b[0m\u001b[0m\n\u001b[1;32m     19\u001b[0m \u001b[0mx_tr\u001b[0m\u001b[0;34m=\u001b[0m\u001b[0mtmp\u001b[0m\u001b[0;34m.\u001b[0m\u001b[0mcopy\u001b[0m\u001b[0;34m(\u001b[0m\u001b[0;34m)\u001b[0m\u001b[0;34m\u001b[0m\u001b[0m\n",
      "\u001b[0;32m/home/mtezcan/Documents/Compression/functions/network.py\u001b[0m in \u001b[0;36mtrain_model\u001b[0;34m(model_dict, x_tr, x_test, img_32, train_every, test_every, max_iter, load, fname, outname, ftname)\u001b[0m\n\u001b[1;32m    222\u001b[0m             \u001b[0mbatch_xs\u001b[0m \u001b[0;34m=\u001b[0m \u001b[0mx_tr\u001b[0m\u001b[0;34m[\u001b[0m\u001b[0mids\u001b[0m\u001b[0;34m,\u001b[0m \u001b[0;34m:\u001b[0m\u001b[0;34m,\u001b[0m \u001b[0;34m:\u001b[0m\u001b[0;34m,\u001b[0m \u001b[0;34m:\u001b[0m\u001b[0;34m]\u001b[0m\u001b[0;34m\u001b[0m\u001b[0m\n\u001b[1;32m    223\u001b[0m             \u001b[0mids\u001b[0m \u001b[0;34m=\u001b[0m \u001b[0;34m[\u001b[0m\u001b[0;34m(\u001b[0m\u001b[0mids\u001b[0m\u001b[0;34m[\u001b[0m\u001b[0;36m0\u001b[0m\u001b[0;34m]\u001b[0m \u001b[0;34m+\u001b[0m \u001b[0;36m100\u001b[0m \u001b[0;34m+\u001b[0m \u001b[0mi\u001b[0m\u001b[0;34m)\u001b[0m \u001b[0;34m%\u001b[0m \u001b[0mx_tr\u001b[0m\u001b[0;34m.\u001b[0m\u001b[0mshape\u001b[0m\u001b[0;34m[\u001b[0m\u001b[0;36m0\u001b[0m\u001b[0;34m]\u001b[0m \u001b[0;32mfor\u001b[0m \u001b[0mi\u001b[0m \u001b[0;32min\u001b[0m \u001b[0mrange\u001b[0m\u001b[0;34m(\u001b[0m\u001b[0;36m100\u001b[0m\u001b[0;34m)\u001b[0m\u001b[0;34m]\u001b[0m\u001b[0;34m\u001b[0m\u001b[0m\n\u001b[0;32m--> 224\u001b[0;31m             \u001b[0msess\u001b[0m\u001b[0;34m.\u001b[0m\u001b[0mrun\u001b[0m\u001b[0;34m(\u001b[0m\u001b[0mmodel_dict\u001b[0m\u001b[0;34m[\u001b[0m\u001b[0;34m'train_op'\u001b[0m\u001b[0;34m]\u001b[0m\u001b[0;34m,\u001b[0m \u001b[0mfeed_dict\u001b[0m\u001b[0;34m=\u001b[0m\u001b[0;34m{\u001b[0m\u001b[0mmodel_dict\u001b[0m\u001b[0;34m[\u001b[0m\u001b[0;34m'inputs'\u001b[0m\u001b[0;34m]\u001b[0m\u001b[0;34m:\u001b[0m \u001b[0mbatch_xs\u001b[0m\u001b[0;34m}\u001b[0m\u001b[0;34m)\u001b[0m\u001b[0;34m\u001b[0m\u001b[0m\n\u001b[0m\u001b[1;32m    225\u001b[0m \u001b[0;34m\u001b[0m\u001b[0m\n\u001b[1;32m    226\u001b[0m             \u001b[0;31m# test trained model\u001b[0m\u001b[0;34m\u001b[0m\u001b[0;34m\u001b[0m\u001b[0m\n",
      "\u001b[0;32m/home/mtezcan/anaconda3/lib/python3.6/site-packages/tensorflow/python/client/session.py\u001b[0m in \u001b[0;36mrun\u001b[0;34m(self, fetches, feed_dict, options, run_metadata)\u001b[0m\n\u001b[1;32m    776\u001b[0m     \u001b[0;32mtry\u001b[0m\u001b[0;34m:\u001b[0m\u001b[0;34m\u001b[0m\u001b[0m\n\u001b[1;32m    777\u001b[0m       result = self._run(None, fetches, feed_dict, options_ptr,\n\u001b[0;32m--> 778\u001b[0;31m                          run_metadata_ptr)\n\u001b[0m\u001b[1;32m    779\u001b[0m       \u001b[0;32mif\u001b[0m \u001b[0mrun_metadata\u001b[0m\u001b[0;34m:\u001b[0m\u001b[0;34m\u001b[0m\u001b[0m\n\u001b[1;32m    780\u001b[0m         \u001b[0mproto_data\u001b[0m \u001b[0;34m=\u001b[0m \u001b[0mtf_session\u001b[0m\u001b[0;34m.\u001b[0m\u001b[0mTF_GetBuffer\u001b[0m\u001b[0;34m(\u001b[0m\u001b[0mrun_metadata_ptr\u001b[0m\u001b[0;34m)\u001b[0m\u001b[0;34m\u001b[0m\u001b[0m\n",
      "\u001b[0;32m/home/mtezcan/anaconda3/lib/python3.6/site-packages/tensorflow/python/client/session.py\u001b[0m in \u001b[0;36m_run\u001b[0;34m(self, handle, fetches, feed_dict, options, run_metadata)\u001b[0m\n\u001b[1;32m    980\u001b[0m     \u001b[0;32mif\u001b[0m \u001b[0mfinal_fetches\u001b[0m \u001b[0;32mor\u001b[0m \u001b[0mfinal_targets\u001b[0m\u001b[0;34m:\u001b[0m\u001b[0;34m\u001b[0m\u001b[0m\n\u001b[1;32m    981\u001b[0m       results = self._do_run(handle, final_targets, final_fetches,\n\u001b[0;32m--> 982\u001b[0;31m                              feed_dict_string, options, run_metadata)\n\u001b[0m\u001b[1;32m    983\u001b[0m     \u001b[0;32melse\u001b[0m\u001b[0;34m:\u001b[0m\u001b[0;34m\u001b[0m\u001b[0m\n\u001b[1;32m    984\u001b[0m       \u001b[0mresults\u001b[0m \u001b[0;34m=\u001b[0m \u001b[0;34m[\u001b[0m\u001b[0;34m]\u001b[0m\u001b[0;34m\u001b[0m\u001b[0m\n",
      "\u001b[0;32m/home/mtezcan/anaconda3/lib/python3.6/site-packages/tensorflow/python/client/session.py\u001b[0m in \u001b[0;36m_do_run\u001b[0;34m(self, handle, target_list, fetch_list, feed_dict, options, run_metadata)\u001b[0m\n\u001b[1;32m   1030\u001b[0m     \u001b[0;32mif\u001b[0m \u001b[0mhandle\u001b[0m \u001b[0;32mis\u001b[0m \u001b[0;32mNone\u001b[0m\u001b[0;34m:\u001b[0m\u001b[0;34m\u001b[0m\u001b[0m\n\u001b[1;32m   1031\u001b[0m       return self._do_call(_run_fn, self._session, feed_dict, fetch_list,\n\u001b[0;32m-> 1032\u001b[0;31m                            target_list, options, run_metadata)\n\u001b[0m\u001b[1;32m   1033\u001b[0m     \u001b[0;32melse\u001b[0m\u001b[0;34m:\u001b[0m\u001b[0;34m\u001b[0m\u001b[0m\n\u001b[1;32m   1034\u001b[0m       return self._do_call(_prun_fn, self._session, handle, feed_dict,\n",
      "\u001b[0;32m/home/mtezcan/anaconda3/lib/python3.6/site-packages/tensorflow/python/client/session.py\u001b[0m in \u001b[0;36m_do_call\u001b[0;34m(self, fn, *args)\u001b[0m\n\u001b[1;32m   1037\u001b[0m   \u001b[0;32mdef\u001b[0m \u001b[0m_do_call\u001b[0m\u001b[0;34m(\u001b[0m\u001b[0mself\u001b[0m\u001b[0;34m,\u001b[0m \u001b[0mfn\u001b[0m\u001b[0;34m,\u001b[0m \u001b[0;34m*\u001b[0m\u001b[0margs\u001b[0m\u001b[0;34m)\u001b[0m\u001b[0;34m:\u001b[0m\u001b[0;34m\u001b[0m\u001b[0m\n\u001b[1;32m   1038\u001b[0m     \u001b[0;32mtry\u001b[0m\u001b[0;34m:\u001b[0m\u001b[0;34m\u001b[0m\u001b[0m\n\u001b[0;32m-> 1039\u001b[0;31m       \u001b[0;32mreturn\u001b[0m \u001b[0mfn\u001b[0m\u001b[0;34m(\u001b[0m\u001b[0;34m*\u001b[0m\u001b[0margs\u001b[0m\u001b[0;34m)\u001b[0m\u001b[0;34m\u001b[0m\u001b[0m\n\u001b[0m\u001b[1;32m   1040\u001b[0m     \u001b[0;32mexcept\u001b[0m \u001b[0merrors\u001b[0m\u001b[0;34m.\u001b[0m\u001b[0mOpError\u001b[0m \u001b[0;32mas\u001b[0m \u001b[0me\u001b[0m\u001b[0;34m:\u001b[0m\u001b[0;34m\u001b[0m\u001b[0m\n\u001b[1;32m   1041\u001b[0m       \u001b[0mmessage\u001b[0m \u001b[0;34m=\u001b[0m \u001b[0mcompat\u001b[0m\u001b[0;34m.\u001b[0m\u001b[0mas_text\u001b[0m\u001b[0;34m(\u001b[0m\u001b[0me\u001b[0m\u001b[0;34m.\u001b[0m\u001b[0mmessage\u001b[0m\u001b[0;34m)\u001b[0m\u001b[0;34m\u001b[0m\u001b[0m\n",
      "\u001b[0;32m/home/mtezcan/anaconda3/lib/python3.6/site-packages/tensorflow/python/client/session.py\u001b[0m in \u001b[0;36m_run_fn\u001b[0;34m(session, feed_dict, fetch_list, target_list, options, run_metadata)\u001b[0m\n\u001b[1;32m   1019\u001b[0m         return tf_session.TF_Run(session, options,\n\u001b[1;32m   1020\u001b[0m                                  \u001b[0mfeed_dict\u001b[0m\u001b[0;34m,\u001b[0m \u001b[0mfetch_list\u001b[0m\u001b[0;34m,\u001b[0m \u001b[0mtarget_list\u001b[0m\u001b[0;34m,\u001b[0m\u001b[0;34m\u001b[0m\u001b[0m\n\u001b[0;32m-> 1021\u001b[0;31m                                  status, run_metadata)\n\u001b[0m\u001b[1;32m   1022\u001b[0m \u001b[0;34m\u001b[0m\u001b[0m\n\u001b[1;32m   1023\u001b[0m     \u001b[0;32mdef\u001b[0m \u001b[0m_prun_fn\u001b[0m\u001b[0;34m(\u001b[0m\u001b[0msession\u001b[0m\u001b[0;34m,\u001b[0m \u001b[0mhandle\u001b[0m\u001b[0;34m,\u001b[0m \u001b[0mfeed_dict\u001b[0m\u001b[0;34m,\u001b[0m \u001b[0mfetch_list\u001b[0m\u001b[0;34m)\u001b[0m\u001b[0;34m:\u001b[0m\u001b[0;34m\u001b[0m\u001b[0m\n",
      "\u001b[0;31mKeyboardInterrupt\u001b[0m: "
     ]
    }
   ],
   "source": [
    "#Code for fine-tuning\n",
    "#YOU NEED TO CREATE A FOLDER NAMED 'cifar10_recon2' BEFORE RUNNING THAT CODE\n",
    "im = skimage.io.imread('../test_img/lena512color.tiff')\n",
    "im_32=img.img2block(im)\n",
    "x_tr=im_32.copy()\n",
    "\n",
    "tmp=x_tr.copy()\n",
    "x_tr=im_32.copy()\n",
    "idx=np.random.permutation(x_tr.shape[0])\n",
    "x_tr=x_tr[idx,:,:,:]\n",
    "\n",
    "tf.reset_default_graph()\n",
    "model_dict=network.apply_classification_loss_mse(kernels1=[5,7,9,9],kernels2=[9,7,7,5],\n",
    "                                     filters1=[128,64,16,4],filters2=[8,8,3,3],\n",
    "                                     pool_size=[1,2,2,1,1,2,2,1],learning_rate=1e-6,FT=True)\n",
    "saver = network.train_model(model_dict,x_tr,x_test,im_32, train_every=100, test_every=1000,load=True,\n",
    "                    fname='cifar10_recon2',outname='/tmp/cnnx4_test1',ftname='/tmp/cnnx4_test1_lion')\n",
    "\n",
    "x_tr=tmp.copy()"
   ]
  },
  {
   "cell_type": "code",
   "execution_count": 9,
   "metadata": {
    "collapsed": false,
    "scrolled": false
   },
   "outputs": [
    {
     "name": "stdout",
     "output_type": "stream",
     "text": [
      "INFO:tensorflow:Restoring parameters from /tmp/cnnx4_test0\n",
      "Model loaded\n",
      "5\n",
      "1th slice\n",
      "2th slice\n",
      "3th slice\n",
      "4th slice\n",
      "5th slice\n"
     ]
    }
   ],
   "source": [
    "#Apply the pre-trained network on another image\n",
    "\n",
    "tfsave ='/tmp/cnnx4_test0'\n",
    "imgpath = '../test_img/lion.tiff'\n",
    "outpath='../test_img/lion_recon2_convrealFTpx8.tiff'\n",
    "with model_dict['graph'].as_default(), tf.Session() as sess:\n",
    "#with tf.Session() as sess:\n",
    "    sess.run(tf.global_variables_initializer())\n",
    "\n",
    "    saver = tf.train.Saver()\n",
    "    saver.restore(sess, tfsave)\n",
    "    print(\"Model loaded\")\n",
    "    \n",
    "    im = skimage.io.imread(imgpath)\n",
    "    [w,l,c]=im.shape\n",
    "    im_32=img.img2block(im)\n",
    "    im_block = np.zeros(im_32.shape)\n",
    "    \n",
    "    n= np.floor(im_32.shape[0]/2000).astype(int)\n",
    "    print(n)\n",
    "    for i in range(0,n):\n",
    "        print(str(i+1)+'th slice')\n",
    "        im_block[i*2000:(i+1)*2000,:,:,:]=sess.run(model_dict['outputs'], \n",
    "                                    feed_dict={model_dict['inputs']:im_32[i*2000:(i+1)*2000,:,:,:]})\n",
    "    im_block[n*2000:,:,:,:]=sess.run(model_dict['outputs'], \n",
    "                                    feed_dict={model_dict['inputs']:im_32[n*2000:,:,:,:]})\n",
    "        \n",
    "    im_recon=img.block2img(im_block,(w,l))\n",
    "    im_recon=img.convert2uint8(im_recon*255.)\n",
    "    skimage.io.imsave(outpath,im_recon)\n"
   ]
  },
  {
   "cell_type": "markdown",
   "metadata": {},
   "source": [
    "# CNN-RNN-AE with the best parameters"
   ]
  },
  {
   "cell_type": "code",
   "execution_count": null,
   "metadata": {
    "collapsed": false
   },
   "outputs": [
    {
     "name": "stdout",
     "output_type": "stream",
     "text": [
      "iteration 0\t train mse: 6.136E-01\t\n",
      "iteration 0\t TEST MSE: 5.860E-01\t TEST MSE(Quantized): 2.967E-01\t\n"
     ]
    }
   ],
   "source": [
    "tf.reset_default_graph()\n",
    "model_dict=network.apply_classification_loss_mse_with_rnn(kernels1=[5,7,9,9],kernels2=[9,7,7,5],\n",
    "                                         filters1=[128,64,16,4],filters2=[8,8,3,3],\n",
    "                                         pool_size=[1,2,2,1,1,2,2,1],learning_rate=7e-5)\n",
    "saver = network.train_model(model_dict,x_tr,x_test,im_32, train_every=100, test_every=200,max_iter=500,load=False,\n",
    "                    fname='cifar10_recon3',outname='/tmp/cnnx4_test2')"
   ]
  },
  {
   "cell_type": "code",
   "execution_count": null,
   "metadata": {
    "collapsed": true
   },
   "outputs": [],
   "source": [
    "#YOU NEED TO CREATE A FOLDER NAMED 'cifar10_recon0' BEFORE RUNNING THAT CODE\n",
    "tf.reset_default_graph()\n",
    "model_dict=network.apply_classification_loss_mse_with_rnn(kernels1=[5,7,9,9],kernels2=[9,7,7,5],\n",
    "                                     filters1=[128,64,16,4],filters2=[8,8,3,3],\n",
    "                                     pool_size=[1,2,2,1,1,2,2,1],learning_rate=7e-5)\n",
    "saver = network.train_model(model_dict,x_tr,x_test,im_32, train_every=100, test_every=100,max_iter=500,load=False,\n",
    "                    fname='cifar10_recon0',outname='/tmp/cnnx4_test0')"
   ]
  }
 ],
 "metadata": {
  "kernelspec": {
   "display_name": "Python 3",
   "language": "python",
   "name": "python3"
  },
  "language_info": {
   "codemirror_mode": {
    "name": "ipython",
    "version": 3
   },
   "file_extension": ".py",
   "mimetype": "text/x-python",
   "name": "python",
   "nbconvert_exporter": "python",
   "pygments_lexer": "ipython3",
   "version": "3.6.0"
  }
 },
 "nbformat": 4,
 "nbformat_minor": 2
}
