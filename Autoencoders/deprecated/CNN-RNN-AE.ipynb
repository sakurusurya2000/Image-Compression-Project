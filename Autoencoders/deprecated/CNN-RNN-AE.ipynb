{
 "cells": [
  {
   "cell_type": "code",
   "execution_count": null,
   "metadata": {
    "collapsed": true
   },
   "outputs": [],
   "source": [
    "import tensorflow as tf\n",
    "import skimage.io\n",
    "import skimage.color\n",
    "import numpy as np\n",
    "from pprint import pprint\n",
    "\n",
    "import sys\n",
    "sys.path.insert(1,'../functions') \n",
    "\n",
    "import dataset_generator as data\n",
    "import read_cifar10 as cf10\n",
    "import image_func as imf\n",
    "import network"
   ]
  },
  {
   "cell_type": "code",
   "execution_count": null,
   "metadata": {
    "collapsed": false
   },
   "outputs": [],
   "source": [
    "cifar10_dataset_generators = {\n",
    "    'train': data.cifar10_dataset_generator('train', 1000),\n",
    "    'test': data.cifar10_dataset_generator('test', -1)\n",
    "}\n"
   ]
  },
  {
   "cell_type": "code",
   "execution_count": null,
   "metadata": {
    "collapsed": false
   },
   "outputs": [],
   "source": [
    "#Load cifar-10 data\n",
    "cf10_tr=cf10.load_training_data()\n",
    "cf10_tr_img=cf10_tr[0]\n",
    "cf10_tr_label = cf10_tr[1]\n",
    "\n",
    "cf10_test=cf10.load_test_data()\n",
    "cf10_test_img=cf10_test[0]\n",
    "cf10_test_label = cf10_test[1]"
   ]
  },
  {
   "cell_type": "code",
   "execution_count": null,
   "metadata": {
    "collapsed": false
   },
   "outputs": [],
   "source": [
    "lena_img = skimage.io.imread('../test_img/lena512color.tiff')\n",
    "lena_32=imf.img2block(lena_img)\n",
    "\n",
    "        "
   ]
  },
  {
   "cell_type": "markdown",
   "metadata": {},
   "source": [
    "# Part-2 - CNN"
   ]
  },
  {
   "cell_type": "code",
   "execution_count": null,
   "metadata": {
    "collapsed": false
   },
   "outputs": [],
   "source": [
    "#Create the inputs in the desired format\n",
    "x_tr = cf10_tr_img.astype(np.float32)#*255.\n",
    "x_test = cf10_test_img.astype(np.float32)#*255.\n",
    "x_test=x_test[:200,:,:,:]\n",
    "img = skimage.io.imread('../test_img/lena512color.tiff')\n",
    "im_32=imf.img2block(img)\n"
   ]
  },
  {
   "cell_type": "code",
   "execution_count": null,
   "metadata": {
    "collapsed": false
   },
   "outputs": [],
   "source": [
    "tf.reset_default_graph()\n",
    "model_dict=network.apply_classification_loss_mse_with_rnn(kernels1=[5,7,9,9],kernels2=[9,7,7,5],\n",
    "                                         filters1=[128,64,16,4],filters2=[8,8,3,3],\n",
    "                                         pool_size=[1,2,2,1,1,2,2,1],learning_rate=7e-5)\n",
    "saver = network.train_model(model_dict,x_tr,x_test,im_32, train_every=100, test_every=200,max_iter=500,load=False,\n",
    "                    fname='cifar10_recon3',outname='/tmp/cnnx4_test2')"
   ]
  },
  {
   "cell_type": "code",
   "execution_count": null,
   "metadata": {
    "collapsed": false
   },
   "outputs": [],
   "source": [
    "#YOU NEED TO CREATE A FOLDER NAMED 'cifar10_recon0' BEFORE RUNNING THAT CODE\n",
    "tf.reset_default_graph()\n",
    "model_dict=network.apply_classification_loss_mse_with_rnn(kernels1=[5,7,9,9],kernels2=[9,7,7,5],\n",
    "                                     filters1=[128,64,16,4],filters2=[8,8,3,3],\n",
    "                                     pool_size=[1,2,2,1,1,2,2,1],learning_rate=7e-5)\n",
    "saver = network.train_model(model_dict,x_tr,x_test,im_32, train_every=100, test_every=100,max_iter=500,load=False,\n",
    "                    fname='cifar10_recon0',outname='/tmp/cnnx4_test0')"
   ]
  }
 ],
 "metadata": {
  "kernelspec": {
   "display_name": "Python 3",
   "language": "python",
   "name": "python3"
  },
  "language_info": {
   "codemirror_mode": {
    "name": "ipython",
    "version": 3
   },
   "file_extension": ".py",
   "mimetype": "text/x-python",
   "name": "python",
   "nbconvert_exporter": "python",
   "pygments_lexer": "ipython3",
   "version": "3.6.0"
  }
 },
 "nbformat": 4,
 "nbformat_minor": 2
}
