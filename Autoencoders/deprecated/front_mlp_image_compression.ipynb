{
 "cells": [
  {
   "cell_type": "code",
   "execution_count": 1,
   "metadata": {
    "collapsed": true
   },
   "outputs": [],
   "source": [
    "import tensorflow as tf\n",
    "import numpy as np"
   ]
  },
  {
   "cell_type": "code",
   "execution_count": 31,
   "metadata": {
    "collapsed": false
   },
   "outputs": [
    {
     "name": "stdout",
     "output_type": "stream",
     "text": [
      "[[ 0.3955416   0.12160153  0.19642151 ...,  0.06968317  0.69140428\n",
      "   0.15246276]\n",
      " [ 0.09525515  0.13920502  0.30888604 ...,  0.6035481   0.45715089\n",
      "   0.03781689]\n",
      " [ 0.63284166  0.54282435  0.48278776 ...,  0.8935599   0.12680349\n",
      "   0.72606722]\n",
      " ..., \n",
      " [ 0.65537722  0.94637658  0.28784545 ...,  0.73615713  0.53699603\n",
      "   0.53415198]\n",
      " [ 0.98592569  0.85208744  0.19715099 ...,  0.20379542  0.36096019\n",
      "   0.15295724]\n",
      " [ 0.82432174  0.38235988  0.89298599 ...,  0.6089612   0.85964109\n",
      "   0.08057932]]\n"
     ]
    }
   ],
   "source": [
    "train_array = np.random.random((1000,10))\n",
    "print(train_array)"
   ]
  },
  {
   "cell_type": "code",
   "execution_count": 32,
   "metadata": {
    "collapsed": false
   },
   "outputs": [
    {
     "name": "stdout",
     "output_type": "stream",
     "text": [
      "[[ 0.86179411  0.85179411  0.84179411 ...,  0.79179411  0.78179411\n",
      "   0.77179411]\n",
      " [ 0.84028875  0.83028875  0.82028875 ...,  0.77028875  0.76028875\n",
      "   0.75028875]\n",
      " [ 0.8935599   0.8835599   0.8735599  ...,  0.8235599   0.8135599\n",
      "   0.8035599 ]\n",
      " ..., \n",
      " [ 0.94637658  0.93637658  0.92637658 ...,  0.87637658  0.86637658\n",
      "   0.85637658]\n",
      " [ 0.98592569  0.97592569  0.96592569 ...,  0.91592569  0.90592569\n",
      "   0.89592569]\n",
      " [ 0.9992102   0.9892102   0.9792102  ...,  0.9292102   0.9192102\n",
      "   0.9092102 ]]\n"
     ]
    }
   ],
   "source": [
    "train_rows = np.shape(train_array)[0]\n",
    "train_cols = np.shape(train_array)[1]\n",
    "train_labels = np.zeros((train_rows,train_cols))\n",
    "for i in range(train_rows):\n",
    "    for j in range(train_cols):\n",
    "        if j == 0:\n",
    "            train_labels[i,j] = max(train_array[i,:])\n",
    "        else:\n",
    "            train_labels[i,j] = train_labels[i,(j-1)]-0.01\n",
    "print(train_labels)"
   ]
  },
  {
   "cell_type": "code",
   "execution_count": 33,
   "metadata": {
    "collapsed": true
   },
   "outputs": [],
   "source": [
    "def mlp(x, hidden_sizes, activation_fn=tf.nn.relu):\n",
    "    if not isinstance(hidden_sizes, (list, tuple)):\n",
    "        raise ValueError(\"hidden_sizes must be a list or a tuple\")\n",
    "    W = {}\n",
    "    b = {}\n",
    "    h = {}\n",
    "    for i in range(len(hidden_sizes)):\n",
    "        if(W == {}):\n",
    "            W[\"W\"+str(i)] = tf.get_variable(\"W\"+str(i),[10,hidden_sizes[i]],tf.float32,tf.random_normal_initializer(stddev = 0.01))\n",
    "            b[\"b\"+str(i)] = tf.get_variable(\"b\"+str(i),[hidden_sizes[i]],tf.float32,tf.constant_initializer(0.0))\n",
    "            h[\"h\"+str(i)] = activation_fn(tf.matmul(x,W[\"W\"+str(i)])+b[\"b\"+str(i)])\n",
    "        elif(i == len(hidden_sizes)-1):\n",
    "            W[\"W\"+str(i)] = tf.get_variable(\"W\"+str(i),[hidden_sizes[i-1],hidden_sizes[i]],tf.float32,tf.random_normal_initializer(stddev = 0.01))\n",
    "            b[\"b\"+str(i)] = tf.get_variable(\"b\"+str(i),[hidden_sizes[i]],tf.float32,tf.constant_initializer(0.0))\n",
    "            return (tf.matmul(h[\"h\"+str(i-1)],W[\"W\"+str(i)])+b[\"b\"+str(i)])\n",
    "        else:\n",
    "            W[\"W\"+str(i)] = tf.get_variable(\"W\"+str(i),[hidden_sizes[i-1],hidden_sizes[i]],tf.float32,tf.random_normal_initializer(stddev = 0.01))\n",
    "            b[\"b\"+str(i)] = tf.get_variable(\"b\"+str(i),[hidden_sizes[i]],tf.float32,tf.constant_initializer(0.0))\n",
    "            h[\"h\"+str(i)] = activation_fn(tf.matmul(h[\"h\"+str(i-1)],W[\"W\"+str(i)])+b[\"b\"+str(i)])"
   ]
  },
  {
   "cell_type": "code",
   "execution_count": 36,
   "metadata": {
    "collapsed": false
   },
   "outputs": [
    {
     "name": "stdout",
     "output_type": "stream",
     "text": [
      "38.729814951\n",
      "6.0595560893\n",
      "6.05706680437\n",
      "6.02788693193\n",
      "5.98470501138\n",
      "5.93538273533\n",
      "5.88351898642\n",
      "5.83069233332\n",
      "5.77770548453\n",
      "5.72507235492\n",
      "5.67319154151\n",
      "5.62240566206\n",
      "5.57302393839\n",
      "5.52533032854\n",
      "5.47958573092\n",
      "5.43602586705\n",
      "5.39485779733\n",
      "5.35625338649\n",
      "5.32034523486\n",
      "5.28722085111\n",
      "5.25691952612\n",
      "5.22943313842\n",
      "5.20470543306\n",
      "5.18263690189\n",
      "5.16309170199\n",
      "5.1459032762\n",
      "5.13088357053\n",
      "5.11783134243\n",
      "5.10653970815\n",
      "5.09680316552\n",
      "5.08842393966\n",
      "5.0812146743\n",
      "5.07500457537\n",
      "5.06963840226\n",
      "5.06497901838\n",
      "5.06090653618\n",
      "5.05731778517\n",
      "5.05412607593\n",
      "5.05125787257\n",
      "5.04865379987\n",
      "5.04626417449\n",
      "5.04405014315\n",
      "5.0419799128\n",
      "5.04002777731\n",
      "5.03817571074\n",
      "5.03640774185\n",
      "5.03471274257\n",
      "5.03308184768\n",
      "5.03150819116\n",
      "5.02998716192\n",
      "5.0285144496\n",
      "5.02708681071\n",
      "5.02570242462\n",
      "5.02435852672\n",
      "5.02305414624\n",
      "5.02178762489\n",
      "5.02055721052\n",
      "5.01936235555\n",
      "5.01820169742\n",
      "5.0170735857\n",
      "5.01597754934\n",
      "5.01491204507\n",
      "5.01387665722\n",
      "5.01287017698\n",
      "5.01189135079\n",
      "5.01093911126\n",
      "5.01001302872\n",
      "5.00911176718\n",
      "5.00823436711\n",
      "5.00738058408\n",
      "5.00654913654\n",
      "5.00573922131\n",
      "5.00495008197\n",
      "5.00418131469\n",
      "5.00343182909\n",
      "5.00270091494\n",
      "5.0019883843\n",
      "5.0012932969\n",
      "5.00061476335\n",
      "4.99995301026\n",
      "4.99930672\n",
      "4.99867537898\n",
      "4.99805903135\n",
      "4.99745698192\n",
      "4.9968685002\n",
      "4.99629358655\n",
      "4.99573086129\n",
      "4.99518101412\n",
      "4.99464310828\n",
      "4.99411699656\n",
      "4.9936020669\n",
      "4.99309776659\n",
      "4.99260429276\n",
      "4.9921211217\n",
      "4.99164772976\n",
      "4.99118393005\n",
      "4.99072962657\n",
      "4.99028377012\n",
      "4.98984703978\n",
      "4.9894188412\n",
      "[[ 0.50159783  0.61804251  0.11908296  0.09711203  0.70725984  0.83677861\n",
      "   0.26683684  0.34680484  0.04716688  0.13446337]]\n",
      "[array([[ 0.83548361,  0.82560116,  0.81568962,  0.80577552,  0.79580408,\n",
      "         0.78591537,  0.77600253,  0.76610076,  0.75613427,  0.74623728]], dtype=float32)]\n"
     ]
    }
   ],
   "source": [
    "with tf.Graph().as_default():\n",
    "    x = tf.placeholder(tf.float32,[None,10])\n",
    "    y = tf.placeholder(tf.float32,[None,10])\n",
    "    prediction = mlp(x,[10,10,10],tf.sigmoid)\n",
    "    loss = tf.reduce_sum(tf.square(prediction-y))\n",
    "    optimizer = tf.train.AdamOptimizer().minimize(loss)\n",
    "    with tf.Session() as sess:\n",
    "        sess.run(tf.global_variables_initializer())\n",
    "        for epoch in range(100):\n",
    "            loss_avg = 0\n",
    "            for data in range(1000):\n",
    "                x_train = np.reshape(train_array[data,:],(1,10))\n",
    "                y_train = np.reshape(train_labels[data,:],(1,10))\n",
    "                #print(x_train,y_train)\n",
    "                _,loss_here = sess.run([optimizer,loss],feed_dict = {x:x_train,y:y_train})\n",
    "                #print(\"loss:\",loss)\n",
    "                loss_avg += loss_here\n",
    "            print(loss_avg/10)\n",
    "        x_test = np.random.random((1,10))\n",
    "        print(x_test)\n",
    "        print(sess.run([prediction],feed_dict = {x:x_test,y:y_train}))\n",
    "        #sess.run([optimizer],)"
   ]
  },
  {
   "cell_type": "code",
   "execution_count": 11,
   "metadata": {
    "collapsed": false
   },
   "outputs": [
    {
     "name": "stdout",
     "output_type": "stream",
     "text": [
      "[ 0.57894346  0.65120785  0.73893972  0.99132392  0.61851509  0.45124925\n",
      "  0.09072389  0.85271584  0.85796748  0.97041281] [ 0.99132392  0.98132392  0.97132392  0.96132392  0.95132392  0.94132392\n",
      "  0.93132392  0.92132392  0.91132392  0.90132392]\n"
     ]
    }
   ],
   "source": [
    "with tf.Graph().as_default():\n",
    "    x = tf.placeholder(tf.float32,[None,10])\n",
    "    y = tf.placeholder(tf.float32,[None,10])\n",
    "    prediction = mlp(x,[10,10,10],tf.sigmoid)\n",
    "    loss = tf.reduce_sum(tf.square(prediction-y))\n",
    "    optimizer = tf.train.AdamOptimizer().minimize(loss)\n",
    "    with tf.Session() as sess:\n",
    "        sess.run(tf.global_variables_initializer())\n",
    "        for epoch in range(100):\n",
    "            loss_avg = 0\n",
    "            for data in range(1000):\n",
    "                x_train = np.reshape(train_array[data,:],(1,10))\n",
    "                y_train = np.reshape(train_labels[data,:],(1,10))\n",
    "                #print(x_train,y_train)\n",
    "                _,loss_here = sess.run([optimizer,loss],feed_dict = {x:y_train,y:x_train})\n",
    "                #print(\"loss:\",loss)\n",
    "                loss_avg += loss_here\n",
    "            print(loss_avg/10)\n",
    "        x_test = np.random.random((1,10))\n",
    "        print(x_test)\n",
    "        print(sess.run([prediction],feed_dict = {x:x_test,y:y_train}))"
   ]
  },
  {
   "cell_type": "code",
   "execution_count": null,
   "metadata": {
    "collapsed": true
   },
   "outputs": [],
   "source": []
  }
 ],
 "metadata": {
  "anaconda-cloud": {},
  "kernelspec": {
   "display_name": "Python [conda root]",
   "language": "python",
   "name": "conda-root-py"
  },
  "language_info": {
   "codemirror_mode": {
    "name": "ipython",
    "version": 3
   },
   "file_extension": ".py",
   "mimetype": "text/x-python",
   "name": "python",
   "nbconvert_exporter": "python",
   "pygments_lexer": "ipython3",
   "version": "3.5.2"
  }
 },
 "nbformat": 4,
 "nbformat_minor": 1
}
